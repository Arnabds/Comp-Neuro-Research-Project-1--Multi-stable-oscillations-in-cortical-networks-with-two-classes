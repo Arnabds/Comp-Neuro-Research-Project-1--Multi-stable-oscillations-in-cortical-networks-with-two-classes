{
 "cells": [
  {
   "cell_type": "code",
   "execution_count": 1,
   "id": "af5f62cc",
   "metadata": {},
   "outputs": [],
   "source": [
    "import numpy as np\n",
    "import pandas as pd\n",
    "from scipy.signal import find_peaks\n",
    "import matplotlib.pyplot as plt"
   ]
  },
  {
   "cell_type": "code",
   "execution_count": 2,
   "id": "1868c1aa",
   "metadata": {},
   "outputs": [],
   "source": [
    "def detect_cycles_or_spikes(signal, time_vector, distance=None, kind=\"lfp\", epsilon=0.01):\n",
    "    \"\"\"\n",
    "    Detect peaks or spike times based on signal type.\n",
    "    \n",
    "    Parameters:\n",
    "    - signal: 1D numpy array\n",
    "    - time_vector: corresponding 1D time vector\n",
    "    - distance: window size for local peak detection (optional)\n",
    "    - kind: \"lfp\" or \"spike\"\n",
    "    - epsilon: prominence threshold for LFP peak detection\n",
    "\n",
    "    Returns:\n",
    "    - peaks: list of peak values\n",
    "    - tm: list of peak times\n",
    "    - peak_indices: list of indices in signal\n",
    "    \"\"\"\n",
    "    if distance is None:\n",
    "        distance = 150 if kind == \"lfp\" else 50\n",
    "\n",
    "    peaks = []\n",
    "    peak_indices = []\n",
    "\n",
    "    if kind == \"lfp\":\n",
    "        # --- LFP-style peak/trough detection ---\n",
    "        i = 0\n",
    "        n = len(signal)\n",
    "        searching_peak = True\n",
    "        current_peak = signal[i]\n",
    "\n",
    "        while i < n - distance:\n",
    "            segment = signal[i:i+distance]\n",
    "            if searching_peak:\n",
    "                if np.max(segment) > current_peak + epsilon:\n",
    "                    j = np.argmax(segment)\n",
    "                    current_peak = segment[j]\n",
    "                    i += j\n",
    "                else:\n",
    "                    peaks.append(current_peak)\n",
    "                    peak_indices.append(i)\n",
    "                    current_peak = signal[i]\n",
    "                    searching_peak = False\n",
    "                    i += 1\n",
    "            else:\n",
    "                if np.min(segment) < current_peak - epsilon:\n",
    "                    j = np.argmin(segment)\n",
    "                    current_peak = segment[j]\n",
    "                    i += j\n",
    "                else:\n",
    "                    current_peak = signal[i]\n",
    "                    searching_peak = True\n",
    "                    i += 1\n",
    "\n",
    "        # Fix: remove spurious initial peak\n",
    "        if len(peak_indices) > 0 and peak_indices[0] == 0:\n",
    "            peak_indices = peak_indices[1:]\n",
    "            peaks = peaks[1:]\n",
    "\n",
    "    elif kind == \"spike\":\n",
    "        # --- Spike threshold-based detection (>3 followed by <0) ---\n",
    "        if np.any(signal > 3):\n",
    "            for j in range(len(signal) - 1):\n",
    "                if signal[j] > 3 and signal[j + 1] < 0:\n",
    "                    peak_indices.append(j)\n",
    "                    peaks.append(signal[j])\n",
    "        else:\n",
    "            # No spike detected => skip completely\n",
    "            return np.array([]), np.array([]), np.array([])\n",
    "\n",
    "    else:\n",
    "        raise ValueError(\"Invalid kind. Must be 'lfp' or 'spike'.\")\n",
    "\n",
    "    tm = time_vector[peak_indices]\n",
    "    return np.array(peaks), np.array(tm), np.array(peak_indices)"
   ]
  },
  {
   "cell_type": "code",
   "execution_count": 3,
   "id": "7d587a9a",
   "metadata": {},
   "outputs": [],
   "source": [
    "# Step 2\n",
    "def compute_mvl_per_population(df, tm, pop_prefix, num_neurons=400, distance=None, epsilon=0.01):\n",
    "    \"\"\"\"\n",
    "    Computes MVL (mean vector length) for a population of neurons using phase-locking \n",
    "    to the reference signal cycles (tm).\n",
    "    \n",
    "    Parameters:\n",
    "    - df: DataFrame containing time and voltage signals\n",
    "    - tm: Reference LFP cycle times (e.g., from se)\n",
    "    - pop_prefix: 'qe', 'qi', or 'qs'\n",
    "    - num_neurons: Number of neurons in the population (default: 400)\n",
    "    - distance: Window size for detecting peaks (default: 150)\n",
    "    - epsilon: Prominence threshold for peaks (default: 0.01)\n",
    "\n",
    "    Returns:\n",
    "    - Dictionary with individual MVLs, their mean, and number of neurons used\n",
    "    \"\"\"\n",
    "    mvls_phsft = []\n",
    "    time_vector = df[\"t\"].values\n",
    "\n",
    "    for i in range(num_neurons):\n",
    "        col = f\"{pop_prefix}{i}\"\n",
    "        if col not in df.columns:\n",
    "            continue\n",
    "\n",
    "        signal = df[col].values\n",
    "        _, t_peaks, _ = detect_cycles_or_spikes(signal, time_vector, kind=\"spike\", distance=distance, epsilon=epsilon)\n",
    "\n",
    "        # Compute spike phases relative to LFP cycle timings\n",
    "        spike_phases = []\n",
    "        for x in t_peaks:\n",
    "            for k in range(len(tm) - 1):\n",
    "                lo = tm[k]\n",
    "                hi = tm[k + 1]\n",
    "                if lo < x < hi:\n",
    "                    period = hi - lo\n",
    "                    phase = 360 * (x - lo) / period\n",
    "                    spike_phases.append(phase)\n",
    "                    break\n",
    "\n",
    "        if len(spike_phases) == 0:\n",
    "            continue\n",
    "\n",
    "        complex_phase = np.exp(1j * np.radians(spike_phases))\n",
    "        vec = np.mean(complex_phase)\n",
    "        mvl = np.abs(vec)\n",
    "        mean_angle = np.angle(vec, deg=True)  # degrees from -180 to 180\n",
    "\n",
    "        mvls_phsft.append((mvl, mean_angle))\n",
    "\n",
    "    mvls_phsft = np.array(mvls_phsft)\n",
    "    mvl_vals = mvls_phsft[:, 0]\n",
    "    phase_shifts = mvls_phsft[:, 1]\n",
    "\n",
    "    return {\n",
    "        'individual_mvls': mvl_vals,\n",
    "        'individual_phases': phase_shifts,\n",
    "        'mean_mvl': np.mean(mvl_vals) if len(mvl_vals) > 0 else None,\n",
    "        'mean_phase': np.mean(phase_shifts) if len(phase_shifts) > 0 else None,\n",
    "        'n_neurons_used': len(mvl_vals)\n",
    "    }"
   ]
  },
  {
   "cell_type": "code",
   "execution_count": 4,
   "id": "a021733e",
   "metadata": {},
   "outputs": [],
   "source": [
    "# Step 3\n",
    "def run_mvl_pipeline(df, pop_prefixes=[\"qe\", \"qi\", \"qs\"], distance=150, epsilon=0.01):\n",
    "    \"\"\"\n",
    "    Full pipeline to compute MVLs for each neuron population.\n",
    "    \n",
    "    Steps:\n",
    "    1. Extract LFP cycle times from 'se'\n",
    "    2. For each population (qe, qi, qs), detect spike peaks and compute MVL\n",
    "\n",
    "    Parameters:\n",
    "    - df: Pandas DataFrame with 't', 'se', 'qe0'..'qs399' columns\n",
    "    - pop_prefixes: List of population prefixes to include\n",
    "    - distance: Window size for peak detection\n",
    "    - epsilon: Small threshold for peak detection\n",
    "\n",
    "    Returns:\n",
    "    - mvl_results: Dictionary containing MVL stats for each population\n",
    "    - tm: LFP cycle peak times\n",
    "    \"\"\"\n",
    "    # Step 1: Detect LFP peak times from \"se\"\n",
    "    se_signal = df[\"se\"].values\n",
    "    time_vector = df[\"t\"].values\n",
    "    _, tm, _ = detect_cycles_or_spikes(se_signal, time_vector, kind=\"lfp\", distance=distance, epsilon=epsilon)\n",
    "\n",
    "    # Step 2: Compute MVL for each population\n",
    "    mvl_results = {}\n",
    "    for pop in pop_prefixes:\n",
    "        result = compute_mvl_per_population(df, tm, pop, num_neurons=400, distance=distance, epsilon=epsilon)\n",
    "        mvl_results[pop] = result\n",
    "        print(f\"{pop}: Average MVL = {result['mean_mvl']:.4f} and Mean Phase shift = {result['mean_phase']:.4f} across {result['n_neurons_used']} neurons\")\n",
    "\n",
    "    return mvl_results, tm\n"
   ]
  },
  {
   "cell_type": "code",
   "execution_count": 5,
   "id": "ec0f5bb2",
   "metadata": {},
   "outputs": [
    {
     "name": "stderr",
     "output_type": "stream",
     "text": [
      "/var/folders/h1/fq939csn2q9gqrlq02r8jqzw0000gn/T/ipykernel_75377/2124942144.py:3: FutureWarning: The 'delim_whitespace' keyword in pd.read_csv is deprecated and will be removed in a future version. Use ``sep='\\s+'`` instead\n",
      "  df_lfp = pd.read_csv(file_path, delim_whitespace=True, header=None)\n"
     ]
    }
   ],
   "source": [
    "# Load your dataset (adjust path)\n",
    "file_path = \"lfp_small.dat\"\n",
    "df_lfp = pd.read_csv(file_path, delim_whitespace=True, header=None)\n",
    "\n",
    "\n",
    "#Assign columns (ignoring the last 2 extras if present)\n",
    "columns = [\"t\", \"se\"] + \\\n",
    "          [f\"qe{i}\" for i in range(400)] + \\\n",
    "          [\"si\"]+\\\n",
    "          [f\"qi{i}\" for i in range(400)] + \\\n",
    "          [\"ss\"]+\\\n",
    "          [f\"qs{i}\" for i in range(400)] + \\\n",
    "          [\"tt\"]\n",
    "\n",
    "df_lfp.columns = columns"
   ]
  },
  {
   "cell_type": "code",
   "execution_count": 6,
   "id": "a7bff43a",
   "metadata": {},
   "outputs": [],
   "source": [
    "df_lfp.drop(columns=\"tt\", inplace=True)"
   ]
  },
  {
   "cell_type": "code",
   "execution_count": 7,
   "id": "3486ed6b",
   "metadata": {},
   "outputs": [
    {
     "name": "stdout",
     "output_type": "stream",
     "text": [
      "qe: Average MVL = 0.3644 and Mean Phase shift = -8.9809 across 396 neurons\n",
      "qi: Average MVL = 0.8860 and Mean Phase shift = 70.3736 across 359 neurons\n",
      "qs: Average MVL = 0.8841 and Mean Phase shift = 72.9912 across 201 neurons\n"
     ]
    }
   ],
   "source": [
    "mvl_results_small, tm_small = run_mvl_pipeline(df_lfp)"
   ]
  },
  {
   "cell_type": "code",
   "execution_count": 8,
   "id": "7fb57c94",
   "metadata": {},
   "outputs": [],
   "source": [
    "def count_peaks_custom(signal, time_vector, kind=\"lfp\", distance=150, epsilon=0.01):\n",
    "    _, _, peak_indices = detect_cycles_or_spikes(signal, time_vector, kind=kind, distance=distance, epsilon=epsilon)\n",
    "    return len(peak_indices)"
   ]
  },
  {
   "cell_type": "code",
   "execution_count": 9,
   "id": "17926323",
   "metadata": {},
   "outputs": [],
   "source": [
    "peak_counts = {\n",
    "    \"se\": count_peaks_custom(df_lfp[\"se\"].values, df_lfp[\"t\"].values, kind=\"lfp\")\n",
    "}\n",
    "\n",
    "for pop in [\"qe\", \"qi\", \"qs\"]:\n",
    "    for i in range(400):\n",
    "        col = f\"{pop}{i}\"\n",
    "        if col in df_lfp.columns:\n",
    "            count = count_peaks_custom(df_lfp[col].values, df_lfp[\"t\"].values, kind=\"spike\")\n",
    "            peak_counts[col] = count"
   ]
  },
  {
   "cell_type": "code",
   "execution_count": 10,
   "id": "7051227c",
   "metadata": {},
   "outputs": [
    {
     "data": {
      "application/vnd.microsoft.datawrangler.viewer.v0+json": {
       "columns": [
        {
         "name": "index",
         "rawType": "int64",
         "type": "integer"
        },
        {
         "name": "Neuron",
         "rawType": "object",
         "type": "string"
        },
        {
         "name": "NumPeaks",
         "rawType": "int64",
         "type": "integer"
        }
       ],
       "ref": "476ed9df-b593-4a96-9608-8af98de72b36",
       "rows": [
        [
         "0",
         "se",
         "8"
        ],
        [
         "1",
         "qe0",
         "10"
        ],
        [
         "2",
         "qe1",
         "3"
        ],
        [
         "3",
         "qe2",
         "10"
        ],
        [
         "4",
         "qe3",
         "9"
        ]
       ],
       "shape": {
        "columns": 2,
        "rows": 5
       }
      },
      "text/html": [
       "<div>\n",
       "<style scoped>\n",
       "    .dataframe tbody tr th:only-of-type {\n",
       "        vertical-align: middle;\n",
       "    }\n",
       "\n",
       "    .dataframe tbody tr th {\n",
       "        vertical-align: top;\n",
       "    }\n",
       "\n",
       "    .dataframe thead th {\n",
       "        text-align: right;\n",
       "    }\n",
       "</style>\n",
       "<table border=\"1\" class=\"dataframe\">\n",
       "  <thead>\n",
       "    <tr style=\"text-align: right;\">\n",
       "      <th></th>\n",
       "      <th>Neuron</th>\n",
       "      <th>NumPeaks</th>\n",
       "    </tr>\n",
       "  </thead>\n",
       "  <tbody>\n",
       "    <tr>\n",
       "      <th>0</th>\n",
       "      <td>se</td>\n",
       "      <td>8</td>\n",
       "    </tr>\n",
       "    <tr>\n",
       "      <th>1</th>\n",
       "      <td>qe0</td>\n",
       "      <td>10</td>\n",
       "    </tr>\n",
       "    <tr>\n",
       "      <th>2</th>\n",
       "      <td>qe1</td>\n",
       "      <td>3</td>\n",
       "    </tr>\n",
       "    <tr>\n",
       "      <th>3</th>\n",
       "      <td>qe2</td>\n",
       "      <td>10</td>\n",
       "    </tr>\n",
       "    <tr>\n",
       "      <th>4</th>\n",
       "      <td>qe3</td>\n",
       "      <td>9</td>\n",
       "    </tr>\n",
       "  </tbody>\n",
       "</table>\n",
       "</div>"
      ],
      "text/plain": [
       "  Neuron  NumPeaks\n",
       "0     se         8\n",
       "1    qe0        10\n",
       "2    qe1         3\n",
       "3    qe2        10\n",
       "4    qe3         9"
      ]
     },
     "metadata": {},
     "output_type": "display_data"
    },
    {
     "name": "stdout",
     "output_type": "stream",
     "text": [
      "        count    mean       std  min  25%   50%   75%   max\n",
      "Neuron                                                     \n",
      "qe      400.0  9.5725  1.669344  0.0  9.0  10.0  10.0  19.0\n",
      "qi      400.0  8.0650  5.835745  0.0  8.0   8.0   8.0  67.0\n",
      "qs      400.0  3.2475  5.767965  0.0  0.0   1.0   6.0  60.0\n",
      "se        1.0  8.0000       NaN  8.0  8.0   8.0   8.0   8.0\n"
     ]
    }
   ],
   "source": [
    "# Convert dictionary to DataFrame\n",
    "df_peak_counts = pd.DataFrame(list(peak_counts.items()), columns=[\"Neuron\", \"NumPeaks\"])\n",
    "\n",
    "# Display first few rows\n",
    "display(df_peak_counts.head())\n",
    "\n",
    "# Summary statistics grouped by population prefix\n",
    "summary_stats = df_peak_counts.groupby(df_peak_counts[\"Neuron\"].str[:2])[\"NumPeaks\"].describe()\n",
    "print(summary_stats)"
   ]
  },
  {
   "cell_type": "code",
   "execution_count": 11,
   "id": "af1a0daf",
   "metadata": {},
   "outputs": [
    {
     "name": "stdout",
     "output_type": "stream",
     "text": [
      "     Neuron  NumPeaks\n",
      "1043  qs242        60\n"
     ]
    }
   ],
   "source": [
    "# Filter for qe neurons with exactly 19 peaks\n",
    "qs_60_peaks = df_peak_counts[(df_peak_counts[\"Neuron\"].str.startswith(\"qs\")) & \n",
    "                             (df_peak_counts[\"NumPeaks\"] == 60)]\n",
    "\n",
    "# Display results\n",
    "print(qs_60_peaks)\n"
   ]
  },
  {
   "cell_type": "code",
   "execution_count": 12,
   "id": "de061b91",
   "metadata": {},
   "outputs": [
    {
     "name": "stdout",
     "output_type": "stream",
     "text": [
      "[] []\n"
     ]
    }
   ],
   "source": [
    "p_value, t_peaks, p_idx = detect_cycles_or_spikes(df_lfp.qi75.values, df_lfp.t.values, kind='spike') \n",
    "print(t_peaks, p_value)"
   ]
  },
  {
   "cell_type": "code",
   "execution_count": 13,
   "id": "f0e79066",
   "metadata": {},
   "outputs": [],
   "source": [
    "import matplotlib.pyplot as plt\n",
    "import numpy as np\n",
    "\n",
    "def plot_phase_locking_histograms(df, tm, pop_prefixes=[\"qe\", \"qi\", \"qs\"], num_neurons=400):\n",
    "    time_vector = df[\"t\"].values\n",
    "\n",
    "    for pop in pop_prefixes:\n",
    "        all_phases = []\n",
    "        for i in range(num_neurons):\n",
    "            col = f\"{pop}{i}\"\n",
    "            if col not in df.columns:\n",
    "                continue\n",
    "            signal = df[col].values\n",
    "            _, t_peaks, _ = detect_cycles_or_spikes(signal, time_vector, kind=\"spike\")\n",
    "\n",
    "            spike_phases = []\n",
    "            for x in t_peaks:\n",
    "                for k in range(len(tm) - 1):\n",
    "                    lo = tm[k]\n",
    "                    hi = tm[k + 1]\n",
    "                    if lo < x < hi:\n",
    "                        period = hi - lo\n",
    "                        phase = 360 * (x - lo) / period\n",
    "                        phase = (phase + 180) % 360 - 180  # Convert to [-180, 180)\n",
    "                        spike_phases.append(phase)\n",
    "                        break\n",
    "\n",
    "            all_phases.extend(spike_phases)\n",
    "\n",
    "        if all_phases:\n",
    "            plt.figure(figsize=(6, 4))\n",
    "            plt.hist(all_phases, bins=36, range=(-180, 180), color='skyblue', edgecolor='black')\n",
    "            plt.title(f\"Phase Locking Histogram for {pop.upper()}\")\n",
    "            plt.xlabel(\"Phase (degrees)\")\n",
    "            plt.ylabel(\"Spike Count\")\n",
    "            plt.xticks(np.arange(-180, 181, 60))\n",
    "            plt.grid(True)\n",
    "            plt.tight_layout()\n",
    "            plt.show()\n",
    "        else:\n",
    "            print(f\"[{pop.upper()}] No valid spikes detected — skipping histogram.\")\n"
   ]
  },
  {
   "cell_type": "code",
   "execution_count": 14,
   "id": "c8f2c53f",
   "metadata": {},
   "outputs": [
    {
     "data": {
      "image/png": "[encoded data removed]",
      "text/plain": [
       "<Figure size 600x400 with 1 Axes>"
      ]
     },
     "metadata": {},
     "output_type": "display_data"
    },
    {
     "data": {
      "image/png": "[encoded data removed]",
      "text/plain": [
       "<Figure size 600x400 with 1 Axes>"
      ]
     },
     "metadata": {},
     "output_type": "display_data"
    },
    {
     "data": {
      "image/png": "[encoded data removed]",
      "text/plain": [
       "<Figure size 600x400 with 1 Axes>"
      ]
     },
     "metadata": {},
     "output_type": "display_data"
    }
   ],
   "source": [
    "plot_phase_locking_histograms(df_lfp, tm_small)"
   ]
  },
  {
   "cell_type": "code",
   "execution_count": 20,
   "id": "62889cdb",
   "metadata": {},
   "outputs": [
    {
     "name": "stdout",
     "output_type": "stream",
     "text": [
      "Mean Firing Rate (Hz):\n",
      "  QE: 0.019145 Hz\n",
      "  QI: 0.016130 Hz\n",
      "  QS: 0.006495 Hz\n",
      "  QE: 3829\n",
      "  QI: 3226\n",
      "  QS: 1299\n"
     ]
    }
   ],
   "source": [
    "# Compute total duration\n",
    "T_total = df_lfp[\"t\"].values[-1] - df_lfp[\"t\"].values[0]  # ≈ 500\n",
    "\n",
    "# Mean firing rate per population\n",
    "mean_firing_rates = {}\n",
    "total_spikes_count={}\n",
    "for pop in [\"qe\", \"qi\", \"qs\"]:\n",
    "    # Total spike count for the population\n",
    "    total_spikes = df_peak_counts[df_peak_counts[\"Neuron\"].str.startswith(pop)][\"NumPeaks\"].sum()\n",
    "    mean_fr = total_spikes / (400 * T_total)\n",
    "    mean_firing_rates[pop] = mean_fr\n",
    "    total_spikes_count[pop] = total_spikes\n",
    "\n",
    "# Display results\n",
    "print(\"Mean Firing Rate (Hz):\")\n",
    "for pop, fr in mean_firing_rates.items():\n",
    "    print(f\"  {pop.upper()}: {fr:.6f} Hz\")\n",
    "for pop, fr in total_spikes_count.items():\n",
    "    print(f\"  {pop.upper()}: {fr}\" )"
   ]
  },
  {
   "cell_type": "code",
   "execution_count": 16,
   "id": "2816b528",
   "metadata": {},
   "outputs": [
    {
     "data": {
      "text/plain": [
       "1299"
      ]
     },
     "execution_count": 16,
     "metadata": {},
     "output_type": "execute_result"
    }
   ],
   "source": [
    "df_peak_counts[df_peak_counts[\"Neuron\"].str.startswith(\"qs\")][\"NumPeaks\"].sum()"
   ]
  },
  {
   "cell_type": "code",
   "execution_count": null,
   "id": "591728da",
   "metadata": {},
   "outputs": [],
   "source": []
  }
 ],
 "metadata": {
  "kernelspec": {
   "display_name": "tf215",
   "language": "python",
   "name": "python3"
  },
  "language_info": {
   "codemirror_mode": {
    "name": "ipython",
    "version": 3
   },
   "file_extension": ".py",
   "mimetype": "text/x-python",
   "name": "python",
   "nbconvert_exporter": "python",
   "pygments_lexer": "ipython3",
   "version": "3.10.16"
  }
 },
 "nbformat": 4,
 "nbformat_minor": 5
}
